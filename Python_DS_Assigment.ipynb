{
  "nbformat": 4,
  "nbformat_minor": 0,
  "metadata": {
    "colab": {
      "provenance": []
    },
    "kernelspec": {
      "name": "python3",
      "display_name": "Python 3"
    },
    "language_info": {
      "name": "python"
    }
  },
  "cells": [
    {
      "cell_type": "markdown",
      "source": [
        "#### Q1. How do you comment code in Python? What are the different types of comments?"
      ],
      "metadata": {
        "id": "UZ5_ppjHMEhm"
      }
    },
    {
      "cell_type": "markdown",
      "source": [
        "#### solve\n",
        "In Python, comments are used to explain the code and make it more readable. Python supports two main types of comments:\n",
        "\n",
        "a. Single-line comments\n",
        "- Single-line comments begin with a hash symbol (#).\n",
        "\n",
        "b. Multi-Line Comments\n",
        "- multi-line comments are typically created using multiple single-line comments or by using triple-quoted strings (''' or \"\"\").\n"
      ],
      "metadata": {
        "id": "5-OXZClOMKlR"
      }
    },
    {
      "cell_type": "markdown",
      "source": [
        "#### Q2. What are variables in Python? How do you declare and assign values to variables?"
      ],
      "metadata": {
        "id": "OuI2B4PpNOkn"
      }
    },
    {
      "cell_type": "markdown",
      "source": [
        "#### solve\n",
        "In Python, variables are symbolic names used to store data. They act as containers for storing values that can be referenced and manipulated in the program.\n",
        "\n",
        "Declare and Assign Values to Variables\n",
        "- Declaration and Assignment\n",
        "In Python, variables are created when you assign a value to them. There is no need for an explicit declaration keyword."
      ],
      "metadata": {
        "id": "4BlIedGpNVwF"
      }
    },
    {
      "cell_type": "code",
      "source": [
        "x = 10         # Integer\n",
        "name = \"Alice\" # String\n",
        "pi = 3.14      # Float\n",
        "is_valid = True # Boolean\n"
      ],
      "metadata": {
        "id": "fju1PQAWMIV_"
      },
      "execution_count": 1,
      "outputs": []
    },
    {
      "cell_type": "markdown",
      "source": [
        "#### Q3. How do you convert one data type to another in Python?"
      ],
      "metadata": {
        "id": "qUBUPrkRPhLX"
      }
    },
    {
      "cell_type": "markdown",
      "source": [
        "#### solve\n",
        "In Python, you can convert one data type to another using type conversion methods. Python supports two types of type conversion:\n",
        "\n",
        "a. Implicit Type Conversion\n",
        "- This happens automatically when Python converts a smaller data type to a larger data type during operations.\n",
        "- It is handled by Python without any explicit instruction from the programmer.\n",
        "\n",
        "b. Explicit Type Conversion (Type Casting)\n",
        "- This requires you to manually convert one data type to another using Python's built-in functions."
      ],
      "metadata": {
        "id": "F0UdI4LZPjHx"
      }
    },
    {
      "cell_type": "code",
      "source": [
        "# implicit type conversion\n",
        "x = 10       # Integer\n",
        "y = 2.5      # Float\n",
        "result = x + y  # x is implicitly converted to float\n",
        "print(result)   # Output: 12.5\n",
        "print(type(result))  # Output: <class 'float'>\n"
      ],
      "metadata": {
        "colab": {
          "base_uri": "https://localhost:8080/",
          "height": 0
        },
        "id": "8Nt_VhWfPDTq",
        "outputId": "80113bca-6f31-4b8c-d774-a61910c64f6a"
      },
      "execution_count": 2,
      "outputs": [
        {
          "output_type": "stream",
          "name": "stdout",
          "text": [
            "12.5\n",
            "<class 'float'>\n"
          ]
        }
      ]
    },
    {
      "cell_type": "code",
      "source": [
        "# Explicit type conversion\n",
        "x = 10  # Integer\n",
        "y = float(x)  # Convert to float\n",
        "print(y)  # Output: 10.0\n",
        "print(type(y))  # Output: <class 'float'>\n"
      ],
      "metadata": {
        "colab": {
          "base_uri": "https://localhost:8080/",
          "height": 0
        },
        "id": "b7USYCCqQTM-",
        "outputId": "2acfb904-04a4-453b-d307-09656590c039"
      },
      "execution_count": 3,
      "outputs": [
        {
          "output_type": "stream",
          "name": "stdout",
          "text": [
            "10.0\n",
            "<class 'float'>\n"
          ]
        }
      ]
    },
    {
      "cell_type": "markdown",
      "source": [
        "#### Q4. How do you write and execute a Python script from the command line?"
      ],
      "metadata": {
        "id": "8BV0vT9XQhY1"
      }
    },
    {
      "cell_type": "markdown",
      "source": [
        "#### solve\n",
        " a. Writing a Python Script\n",
        "\n",
        "- Create a New File:\n",
        "\n",
        "  - Use a text editor (e.g., Notepad, VS Code, Sublime Text) to write your Python code.\n",
        "  - Save the file with a .py extension, e.g., script.py.\n",
        "\n",
        "b. Example Script (script.py):"
      ],
      "metadata": {
        "id": "USwzg6D6Qi5z"
      }
    },
    {
      "cell_type": "code",
      "source": [
        "# script.py\n",
        "print(\"Hello, World!\")\n"
      ],
      "metadata": {
        "colab": {
          "base_uri": "https://localhost:8080/",
          "height": 0
        },
        "id": "kLTV7vDoQcOY",
        "outputId": "a392745f-fd0a-4d6f-98ef-2e03b77ee412"
      },
      "execution_count": 4,
      "outputs": [
        {
          "output_type": "stream",
          "name": "stdout",
          "text": [
            "Hello, World!\n"
          ]
        }
      ]
    },
    {
      "cell_type": "markdown",
      "source": [
        "#### Q5. Given a list my_list = [1, 2, 3, 4, 5], write the code to slice the list and obtain the sub-list [2, 3]."
      ],
      "metadata": {
        "id": "lVZRSlSfRR_b"
      }
    },
    {
      "cell_type": "markdown",
      "source": [
        "#### solve\n",
        "To slice the list my_list = [1, 2, 3, 4, 5] and obtain the sub-list [2, 3], use the following code:\n",
        "\n"
      ],
      "metadata": {
        "id": "AxuOzxaWRT6G"
      }
    },
    {
      "cell_type": "code",
      "source": [
        "my_list = [1, 2, 3, 4, 5]\n",
        "sub_list = my_list[1:3]  # Slicing from index 1 (inclusive) to index 3 (exclusive)\n",
        "print(sub_list)\n"
      ],
      "metadata": {
        "colab": {
          "base_uri": "https://localhost:8080/",
          "height": 0
        },
        "id": "lYMilwQDRGa6",
        "outputId": "0ce93060-210a-4a7e-8f30-c1cda8f8d27f"
      },
      "execution_count": 5,
      "outputs": [
        {
          "output_type": "stream",
          "name": "stdout",
          "text": [
            "[2, 3]\n"
          ]
        }
      ]
    },
    {
      "cell_type": "markdown",
      "source": [
        "#### Q6. What is a complex number in mathematics, and how is it represented in Python?"
      ],
      "metadata": {
        "id": "50yCWqbwRuQ1"
      }
    },
    {
      "cell_type": "markdown",
      "source": [
        "#### solve\n",
        "A complex number is a number that has two parts:\n",
        "\n",
        "A real part.\n",
        "An imaginary part (which is a multiple of the imaginary unit\n",
        "𝑖\n",
        "i, where\n",
        "𝑖\n",
        "=\n",
        "−\n",
        "1\n",
        "i=\n",
        "−1\n",
        "​\n",
        " ).\n",
        "It is generally written in the form:\n",
        "\n",
        "𝑧\n",
        "=\n",
        "𝑎\n",
        "+\n",
        "𝑏\n",
        "𝑖\n",
        "z=a+bi\n",
        "\n",
        "Where:\n",
        "- a is the real part.\n",
        "- b is the imaginary part.\n",
        "- i is the imaginary unit.\n",
        "\n",
        "Example:\n",
        "- 3+4i, where 3 is the real part, and 4i is the imaginary part."
      ],
      "metadata": {
        "id": "si49HhzDRwV6"
      }
    },
    {
      "cell_type": "markdown",
      "source": [
        "#### Q7. What is the correct way to declare a variable named age and assign the value 25 to it?"
      ],
      "metadata": {
        "id": "E7tJMJK5SkPw"
      }
    },
    {
      "cell_type": "markdown",
      "source": [
        "#### solve\n",
        "The correct way to declare a variable named age and assign the value 25 to it in Python is:"
      ],
      "metadata": {
        "id": "zDADkA5FSl_Z"
      }
    },
    {
      "cell_type": "code",
      "source": [
        "age = 25\n"
      ],
      "metadata": {
        "id": "FwQq277oRo1G"
      },
      "execution_count": 6,
      "outputs": []
    },
    {
      "cell_type": "markdown",
      "source": [
        "#### Q8. Declare a variable named price and assign the value 9.99 to it. What data type does this variable belong to?"
      ],
      "metadata": {
        "id": "dHzBtNPdSxZ1"
      }
    },
    {
      "cell_type": "markdown",
      "source": [
        "#### solve\n",
        "\n",
        "To declare a variable named price and assign the value 9.99 to it, use the following code:\n",
        "\n",
        "Data Type of price\n",
        "The data type of the variable price is float.\n",
        "\n"
      ],
      "metadata": {
        "id": "fNBN9KUJSzPv"
      }
    },
    {
      "cell_type": "code",
      "source": [
        "price = 9.99\n"
      ],
      "metadata": {
        "id": "ZNPkb2V9Srvp"
      },
      "execution_count": 7,
      "outputs": []
    },
    {
      "cell_type": "markdown",
      "source": [
        "#### Q9. Create a variable named name and assign your full name to it as a string. How would you print the value of this variable?"
      ],
      "metadata": {
        "id": "HFy_vUGkTEVF"
      }
    },
    {
      "cell_type": "markdown",
      "source": [
        "#### solve\n",
        "\n",
        "To create a variable named name and assign your full name to it as a string, you can do the following:"
      ],
      "metadata": {
        "id": "5zOvzrg4Tdlf"
      }
    },
    {
      "cell_type": "code",
      "source": [
        "name = \"Your Full Name\"  # Replace \"Your Full Name\" with your actual name\n",
        "print(name)\n"
      ],
      "metadata": {
        "colab": {
          "base_uri": "https://localhost:8080/",
          "height": 0
        },
        "id": "BjRMi2AcS7Jx",
        "outputId": "2b3cfb20-0ac2-4f06-f75c-d656e109db3a"
      },
      "execution_count": 8,
      "outputs": [
        {
          "output_type": "stream",
          "name": "stdout",
          "text": [
            "Your Full Name\n"
          ]
        }
      ]
    },
    {
      "cell_type": "markdown",
      "source": [
        "#### Q10. Given the string \"Hello, World!\", extract the substring \"World\"."
      ],
      "metadata": {
        "id": "7H7K_yICTl6A"
      }
    },
    {
      "cell_type": "markdown",
      "source": [
        "#### solve\n",
        "To extract the substring \"World\" from the string \"Hello, World!\", you can use string slicing."
      ],
      "metadata": {
        "id": "K2s3Yv9zTu9J"
      }
    },
    {
      "cell_type": "code",
      "source": [
        "text = \"Hello, World!\"\n",
        "substring = text[7:12]  # Slice from index 7 to 12 (exclusive)\n",
        "print(substring)\n"
      ],
      "metadata": {
        "colab": {
          "base_uri": "https://localhost:8080/",
          "height": 0
        },
        "id": "6-XqdyT0TiK9",
        "outputId": "394094e1-d883-4fb9-8564-7542b848f87d"
      },
      "execution_count": 9,
      "outputs": [
        {
          "output_type": "stream",
          "name": "stdout",
          "text": [
            "World\n"
          ]
        }
      ]
    },
    {
      "cell_type": "markdown",
      "source": [
        "#### Q11. Create a variable named \"is_student\" and assign it a boolean value indicating whether you are currently a student or not."
      ],
      "metadata": {
        "id": "SEdsLa1vT3_n"
      }
    },
    {
      "cell_type": "markdown",
      "source": [
        "#### solve\n",
        "To create a variable named is_student and assign it a boolean value indicating whether you are currently a student, you can do the following:"
      ],
      "metadata": {
        "id": "pBKwqFY7T8eO"
      }
    },
    {
      "cell_type": "code",
      "source": [
        "is_student = True  # Since you are currently a student\n",
        "print(is_student)\n"
      ],
      "metadata": {
        "colab": {
          "base_uri": "https://localhost:8080/",
          "height": 0
        },
        "id": "P5yAi9c2TyN9",
        "outputId": "f8567316-d823-4c1c-daf1-1b49c5c89f73"
      },
      "execution_count": 10,
      "outputs": [
        {
          "output_type": "stream",
          "name": "stdout",
          "text": [
            "True\n"
          ]
        }
      ]
    },
    {
      "cell_type": "code",
      "source": [],
      "metadata": {
        "id": "QapkivgZUEXB"
      },
      "execution_count": null,
      "outputs": []
    }
  ]
}